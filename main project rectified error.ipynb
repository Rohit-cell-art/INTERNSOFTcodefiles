{
 "cells": [
  {
   "cell_type": "code",
   "execution_count": 1,
   "metadata": {},
   "outputs": [],
   "source": [
    "import os\n",
    "import time\n",
    "import subprocess\n",
    "import json"
   ]
  },
  {
   "cell_type": "code",
   "execution_count": 2,
   "metadata": {},
   "outputs": [],
   "source": [
    "import wolframalpha\n",
    "import requests\n",
    "import webbrowser\n",
    "import wikipedia\n",
    "import datetime"
   ]
  },
  {
   "cell_type": "code",
   "execution_count": 3,
   "metadata": {},
   "outputs": [],
   "source": [
    "import speech_recognition as sr\n",
    "import pyttsx3"
   ]
  },
  {
   "cell_type": "code",
   "execution_count": 4,
   "metadata": {},
   "outputs": [
    {
     "name": "stdout",
     "output_type": "stream",
     "text": [
      "LOADING YOUR A.I PERSONAL ASSISTANT JARVIS\n"
     ]
    }
   ],
   "source": [
    "print('LOADING YOUR A.I PERSONAL ASSISTANT JARVIS')"
   ]
  },
  {
   "cell_type": "code",
   "execution_count": 5,
   "metadata": {},
   "outputs": [],
   "source": [
    "engine = pyttsx3.init('sapi5')"
   ]
  },
  {
   "cell_type": "code",
   "execution_count": 6,
   "metadata": {},
   "outputs": [],
   "source": [
    "voices = engine.getProperty('voices')\n",
    "engine.setProperty(\"voice\",'voices[0].id')"
   ]
  },
  {
   "cell_type": "code",
   "execution_count": 7,
   "metadata": {},
   "outputs": [],
   "source": [
    "def speak(text):\n",
    "    engine.say(text)\n",
    "    engine.runAndWait()"
   ]
  },
  {
   "cell_type": "code",
   "execution_count": 8,
   "metadata": {},
   "outputs": [],
   "source": [
    "def wishMe():\n",
    "    hour = datetime.datetime.now().hour\n",
    "    if hour >= 0 and hour < 12:\n",
    "        speak(\"hello, good morning Mr. Rohit\")\n",
    "        print(\"hello, good morning Mr. Rohit\")\n",
    "    elif hour >=12 and hour <=18:\n",
    "        speak(\"hello, good afternoon Mr. Rohit\")\n",
    "        print(\"hello, good afternoon Mr. Rohit\")\n",
    "    else:\n",
    "        speak(\"hello, good evening Mr. Rohit\")\n",
    "        print(\"hello, good evening Mr. Rohit\")"
   ]
  },
  {
   "cell_type": "code",
   "execution_count": 9,
   "metadata": {},
   "outputs": [],
   "source": [
    "def takeCommand():\n",
    "    r=sr.Recognizer()\n",
    "    with sr.Microphone() as source:\n",
    "        print(\" I am Listening\")\n",
    "        audio = r.listen(source)\n",
    "        \n",
    "        try:\n",
    "            statement = r.recognize_google(audio,language='en-in')\n",
    "            print(f\"User said:{statement}\\n\")\n",
    "            \n",
    "        except Exeception as e:\n",
    "            speak(\"pardon me, can u say again \")\n",
    "            return \"None\"\n",
    "        return statement"
   ]
  },
  {
   "cell_type": "code",
   "execution_count": 10,
   "metadata": {},
   "outputs": [
    {
     "name": "stdout",
     "output_type": "stream",
     "text": [
      "hello, good evening Mr. Rohit\n"
     ]
    }
   ],
   "source": [
    "speak(\"LOADING YOUR PERSONAL A.I ASSISTANT JARVIS\")\n",
    "wishMe()"
   ]
  },
  {
   "cell_type": "code",
   "execution_count": 11,
   "metadata": {},
   "outputs": [
    {
     "name": "stdout",
     "output_type": "stream",
     "text": [
      "hello, good evening Mr. Rohit\n",
      " I am Listening\n",
      "User said:talk about Wikipedia\n",
      "\n",
      "Something to Talk About is a 1995 American comedy-drama film directed by Lasse Hallström, from a screenplay written by Callie Khouri. It stars Julia Roberts and Dennis Quaid as an estranged couple, Kyra Sedgwick as Roberts' sister, and Robert Duvall and Gena Rowlands as their parents.\n",
      "The film's title stems from the Bonnie Raitt song of the same name.\n",
      " I am Listening\n",
      "User said:who are you\n",
      "\n",
      " I am Listening\n",
      "User said:what is time\n",
      "\n",
      " I am Listening\n",
      "User said:open Google\n",
      "\n",
      " I am Listening\n",
      "User said:open news\n",
      "\n",
      " I am Listening\n",
      "User said:open Gmail\n",
      "\n",
      " I am Listening\n",
      "User said:how are you\n",
      "\n",
      " I am Listening\n",
      "User said:ask me\n",
      "\n",
      " I am Listening\n",
      "User said:what is 2 + 4\n",
      "\n",
      "6\n",
      " I am Listening\n",
      "User said:log off\n",
      "\n",
      " I am Listening\n",
      "User said:goodbye\n",
      "\n",
      " I am Listening\n",
      "User said:stop\n",
      "\n",
      "Your personal AI assistant Jarvis is shutting down, Good Bye\n"
     ]
    }
   ],
   "source": [
    "speak(\"LOADING YOUR PERSONAL A.I ASSISTANT JARVIS\")\n",
    "wishMe()\n",
    "\n",
    "if __name__=='__main__':\n",
    "    while True:\n",
    "        speak(\"How can i help you?\")\n",
    "        statement = takeCommand().lower()\n",
    "        if statement == 0:\n",
    "            continue\n",
    "            \n",
    "        if \"good bye\" in statement or \"ok bye\" in statement or \"stop\" in statement:\n",
    "            speak(\"Your personal AI assistant Jarvis is shutting down, Good Bye\")\n",
    "            print(\"Your personal AI assistant Jarvis is shutting down, Good Bye\")\n",
    "            break\n",
    "            \n",
    "        if 'wikipedia' in statement:\n",
    "            speak(\"searching wikipedia....\")\n",
    "            statement = statement.replace(\"wikipedia\",\" \")\n",
    "            results = wikipedia.summary(statement,sentences = 3)\n",
    "            speak(\"According to wikipedia...\")\n",
    "            print(results)\n",
    "            speak(results)\n",
    "            \n",
    "        elif \"open youtube\" in statement:\n",
    "            webbrowser.open_new_tab(\"https://www.youtube.com\")\n",
    "            speak(\"Youtube is open for you\")\n",
    "            time.sleep(5)\n",
    "            \n",
    "        elif \"open google\" in statement:\n",
    "            webbrowser.open_new_tab(\"https://www.google.com\")\n",
    "            speak(\"Google Search engine is open for you\")\n",
    "            time.sleep(5)\n",
    "            \n",
    "        elif \"open gmail\" in statement:\n",
    "            webbrowser.open_new_tab(\"gmail.com\")\n",
    "            speak(\"your gmail is open for you\")\n",
    "            time.sleep(5)\n",
    "            \n",
    "        elif \"weather\" in statement:\n",
    "            api_key=\"886705b4c1182eb1c69f28eb8c520e20\"\n",
    "            base_url =\"https://api.openweathermap.org/data/2.5/weather?\"\n",
    "            speak(\"Whats the city name\")\n",
    "            city_name= takeCommand()\n",
    "            complete_url = base_url + \"q=\" + city_name + \"&appid=\" + api_key\n",
    "            response = requests.get(complete_url)\n",
    "            x = response.json()\n",
    "            if x[\"cod\"]!= \"404\":\n",
    "                y = x[\"main\"]\n",
    "                current_temperature= y[\"temp\"]\n",
    "                current_humidity = y[\"humidity\"]\n",
    "                z = x[\"weather\"]\n",
    "                weather_description =z[0][\"description\"]\n",
    "                speak(\"the temperature in kalvin units is\" + str(current_temperature) + \"\\n humidity in percentage is\" + str(current_humidity) +\"\\n weather description\" + str(weather_description))\n",
    "                print(\"the temperature in kalvin units is\" + str(current_temperature) + \"\\n humidity in percentage is\" + str(current_humidity) + \"\\n weather description\" + str(weather_description))\n",
    "            else:\n",
    "                speak(\"City not Found\")\n",
    "                print(\"City not Found\")\n",
    "                \n",
    "        elif \"time\" in statement:\n",
    "            strTime =datetime.datetime.now().strftime(\"%H:%M:%S\")\n",
    "            speak(\"the time is {strTime} \")\n",
    "            \n",
    "        elif \"who are you\"in statement or \"what can you do\" in statement:\n",
    "            speak(\"Hi i am jarvis I work as a assistance for the system please fill free to work with me....!!\")\n",
    "        \n",
    "        elif \"who made you\" in statement or \"who created you \" in statement:\n",
    "            speak(\"Intern Rohit taken from IRON MAN Movie..!!\")\n",
    "            \n",
    "        elif \"open stack overflow\" in statement:\n",
    "            webbrowser.open_new_tab(\"https://stackoverflow.com/login\")\n",
    "            time.sleep(5)\n",
    "            \n",
    "        elif \"news\" in statement:\n",
    "            new = webbrowser.open_new_tab(\"https://timesofindia.indiatimes.com/home/headlines\")\n",
    "            speak(\"here are some headlines for you from times of India -happ reading\")\n",
    "            time.sleep(7)\n",
    "            \n",
    "        elif \"search\" in statement:\n",
    "            statement =statement.replace(\"search\",\" \")\n",
    "            webbrowser.open_new_tab(\"statement\")\n",
    "            time.sleep(5)\n",
    "            \n",
    "        elif \"ask\" in statement :\n",
    "            speak(\"I can answer to computational and geographical question too just try me !! what do you want to ask\")\n",
    "            question =takeCommand()\n",
    "            app_id =\"R2K75H-7ELALHR35X\"\n",
    "            client =wolframalpha.Client('R2K75H-7ELALHR35X')\n",
    "            res = client.query(question)\n",
    "            answer=next(res.results).text\n",
    "            speak(answer)\n",
    "            print(answer)\n",
    "            \n",
    "        elif \"log off\" in statement or \"sign out\" in statement or \"shut down\" in statement:\n",
    "            speak(\"ok,Your PC  will shut down in 20 sec make sure every thing is saved\")\n",
    "            subprocess.call(['shutdown',\"/1\"])\n",
    "            \n",
    "time.sleep(3)"
   ]
  },
  {
   "cell_type": "code",
   "execution_count": null,
   "metadata": {},
   "outputs": [],
   "source": []
  },
  {
   "cell_type": "code",
   "execution_count": null,
   "metadata": {},
   "outputs": [],
   "source": []
  },
  {
   "cell_type": "code",
   "execution_count": null,
   "metadata": {},
   "outputs": [],
   "source": []
  },
  {
   "cell_type": "code",
   "execution_count": null,
   "metadata": {},
   "outputs": [],
   "source": []
  }
 ],
 "metadata": {
  "kernelspec": {
   "display_name": "Python 3",
   "language": "python",
   "name": "python3"
  },
  "language_info": {
   "codemirror_mode": {
    "name": "ipython",
    "version": 3
   },
   "file_extension": ".py",
   "mimetype": "text/x-python",
   "name": "python",
   "nbconvert_exporter": "python",
   "pygments_lexer": "ipython3",
   "version": "3.8.5"
  }
 },
 "nbformat": 4,
 "nbformat_minor": 4
}
